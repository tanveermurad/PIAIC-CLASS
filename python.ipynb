{
  "cells": [
    {
      "cell_type": "markdown",
      "metadata": {
        "id": "view-in-github",
        "colab_type": "text"
      },
      "source": [
        "<a href=\"https://colab.research.google.com/github/tanveermurad/PIAIC-CLASS/blob/main/python.ipynb\" target=\"_parent\"><img src=\"https://colab.research.google.com/assets/colab-badge.svg\" alt=\"Open In Colab\"/></a>"
      ]
    },
    {
      "cell_type": "code",
      "execution_count": null,
      "metadata": {
        "colab": {
          "base_uri": "https://localhost:8080/"
        },
        "id": "0WhsW0-MXoBX",
        "outputId": "47ea3d1e-cf3f-43ed-ddd2-be776583f61e"
      },
      "outputs": [
        {
          "name": "stdout",
          "output_type": "stream",
          "text": [
            "hello world\n"
          ]
        }
      ],
      "source": [
        "print(\"hello world\")"
      ]
    },
    {
      "cell_type": "code",
      "execution_count": null,
      "metadata": {
        "id": "afK9NdK-UXjl"
      },
      "outputs": [],
      "source": []
    },
    {
      "cell_type": "code",
      "execution_count": null,
      "metadata": {
        "colab": {
          "base_uri": "https://localhost:8080/"
        },
        "id": "jlpeeF_De-5e",
        "outputId": "be90e135-4e78-4e73-dad7-d2634f890d4b"
      },
      "outputs": [
        {
          "name": "stdout",
          "output_type": "stream",
          "text": [
            "messi baloch\n",
            "messi baloch\n",
            "messi baloch\n",
            "messi baloch\n",
            "messi baloch\n"
          ]
        }
      ],
      "source": [
        "fav_celebrity = \"messi baloch\"\n",
        "\n",
        "\n",
        "print(fav_celebrity)\n",
        "print(fav_celebrity)\n",
        "print(fav_celebrity)\n",
        "print(fav_celebrity)\n",
        "print(fav_celebrity)"
      ]
    },
    {
      "cell_type": "code",
      "execution_count": null,
      "metadata": {
        "colab": {
          "base_uri": "https://localhost:8080/"
        },
        "id": "JF8I17HhiHt2",
        "outputId": "f609cacf-6459-4f67-a761-6741da9804da"
      },
      "outputs": [
        {
          "name": "stdout",
          "output_type": "stream",
          "text": [
            "you are losertanveer\n"
          ]
        }
      ],
      "source": [
        "sentence = \"you are loser\"\n",
        "name = \"tanveer\"\n",
        "print(sentence + name)"
      ]
    },
    {
      "cell_type": "code",
      "execution_count": null,
      "metadata": {
        "colab": {
          "base_uri": "https://localhost:8080/"
        },
        "id": "liY8QnYZpelm",
        "outputId": "6be796d1-ef3a-4b9b-ea98-ec2be6abb3cb"
      },
      "outputs": [
        {
          "name": "stdout",
          "output_type": "stream",
          "text": [
            "dunya\n"
          ]
        }
      ],
      "source": [
        "print(\"dunya\")"
      ]
    },
    {
      "cell_type": "code",
      "execution_count": null,
      "metadata": {
        "colab": {
          "base_uri": "https://localhost:8080/"
        },
        "id": "1DssuzY0zS03",
        "outputId": "66c365a3-66ed-4356-89e9-51e2f5260194"
      },
      "outputs": [
        {
          "name": "stdout",
          "output_type": "stream",
          "text": [
            "10\n"
          ]
        }
      ],
      "source": [
        "num1 = 10\n",
        "num2 = 22\n",
        "print(num1 + num2)"
      ]
    },
    {
      "cell_type": "code",
      "execution_count": null,
      "metadata": {
        "colab": {
          "base_uri": "https://localhost:8080/"
        },
        "id": "KvqRpDoazS_L",
        "outputId": "9f98f915-1f75-4aed-9cf1-450ad0bcf10b"
      },
      "outputs": [
        {
          "name": "stdout",
          "output_type": "stream",
          "text": [
            "I am a baloch my name is tanveer and i am 16\n"
          ]
        }
      ],
      "source": [
        "age = 16\n",
        "name = \"tanveer\"\n",
        "nation = \"baloch\"\n",
        "formatted_pi = f\"I am a {nation} my name is {name} and i am {age}\"\n",
        "print(formatted_pi)"
      ]
    },
    {
      "cell_type": "code",
      "execution_count": null,
      "metadata": {
        "colab": {
          "base_uri": "https://localhost:8080/"
        },
        "id": "JiWSFbSuzTGr",
        "outputId": "6503cfbc-d0d3-4b3a-8dff-767d828c5e42"
      },
      "outputs": [
        {
          "name": "stdout",
          "output_type": "stream",
          "text": [
            "the sum of 20 and 30 is 50\n"
          ]
        }
      ],
      "source": [
        "num1 = 20\n",
        "num2 = 30\n",
        "formatted_pi = f\"the sum of {num1} and {num2} is {num1 + num2}\"\n",
        "print(formatted_pi)"
      ]
    },
    {
      "cell_type": "code",
      "execution_count": null,
      "metadata": {
        "colab": {
          "base_uri": "https://localhost:8080/"
        },
        "id": "A_UdGt8l4XIm",
        "outputId": "3466b970-3537-4402-ae02-53fa60c61af2"
      },
      "outputs": [
        {
          "name": "stdout",
          "output_type": "stream",
          "text": [
            "<class 'str'>\n"
          ]
        }
      ],
      "source": [
        "\n",
        "name = \"tanveer\"\n",
        "number = 10\n",
        "\n",
        "print(type(name))\n"
      ]
    },
    {
      "cell_type": "code",
      "execution_count": null,
      "metadata": {
        "colab": {
          "base_uri": "https://localhost:8080/"
        },
        "id": "v1_6BlTT7Zx6",
        "outputId": "899312d3-0d54-417d-e921-2b6dd9379cb1"
      },
      "outputs": [
        {
          "name": "stdout",
          "output_type": "stream",
          "text": [
            "my name is tanveer and i  am 18 old\n",
            "my name is tanveer\n"
          ]
        }
      ],
      "source": [
        "name = \"tanveer\"\n",
        "age = 18\n",
        "formatted_pi = f\"my name is {name} and i  am {age} old\"\n",
        "\n",
        "print (formatted_pi)\n",
        "print(f\"my name is {name}\")\n"
      ]
    },
    {
      "cell_type": "code",
      "source": [],
      "metadata": {
        "id": "6EDDgcLXAbyh"
      },
      "execution_count": null,
      "outputs": []
    },
    {
      "cell_type": "code",
      "source": [],
      "metadata": {
        "id": "7HseGvhyAciL"
      },
      "execution_count": null,
      "outputs": []
    },
    {
      "cell_type": "code",
      "source": [],
      "metadata": {
        "id": "TJgrOX9SAdJ9"
      },
      "execution_count": null,
      "outputs": []
    },
    {
      "cell_type": "code",
      "execution_count": null,
      "metadata": {
        "colab": {
          "base_uri": "https://localhost:8080/"
        },
        "id": "6oMfePM8_ujc",
        "outputId": "c82daff4-b4a3-4791-99fa-c8ff7dd28ca4"
      },
      "outputs": [
        {
          "name": "stdout",
          "output_type": "stream",
          "text": [
            "i am tanveer .\n",
            "i am 16 years old\n",
            "I AM a programmer\n"
          ]
        }
      ],
      "source": [
        "paragarap = \"\"\"i am tanveer .\n",
        "i am 16 years old\n",
        "I AM a programmer\"\"\"\n",
        "\n",
        "print(paragarap)"
      ]
    },
    {
      "cell_type": "code",
      "execution_count": null,
      "metadata": {
        "colab": {
          "base_uri": "https://localhost:8080/"
        },
        "id": "i02PzZ7iHVaD",
        "outputId": "bd8dd07e-4a23-4a57-98cf-5f431f26e9d4"
      },
      "outputs": [
        {
          "name": "stdout",
          "output_type": "stream",
          "text": [
            "multiply: 200\n"
          ]
        }
      ],
      "source": [
        "item1 = 10\n",
        "item2 = 20\n",
        "result = item1 * item2\n",
        "print (\"multiply:\",result)"
      ]
    },
    {
      "cell_type": "code",
      "execution_count": null,
      "metadata": {
        "colab": {
          "base_uri": "https://localhost:8080/"
        },
        "id": "qoeSu_lrK4CT",
        "outputId": "d30fa87d-fabe-45f8-ed6c-19c39b695955"
      },
      "outputs": [
        {
          "name": "stdout",
          "output_type": "stream",
          "text": [
            "25\n"
          ]
        }
      ],
      "source": [
        "five = 5\n",
        "print(five **2)"
      ]
    },
    {
      "cell_type": "code",
      "execution_count": null,
      "metadata": {
        "colab": {
          "base_uri": "https://localhost:8080/"
        },
        "id": "NIG9QUZVUa0-",
        "outputId": "3cf93c8f-6c4c-4c73-ed56-7071f69c9909"
      },
      "outputs": [
        {
          "name": "stdout",
          "output_type": "stream",
          "text": [
            "True\n",
            "<class 'bool'>\n"
          ]
        }
      ],
      "source": [
        "userloggin = True\n",
        "Userloggout = False\n",
        "\n",
        "print(userloggin)\n",
        "print (type(userloggin))\n"
      ]
    },
    {
      "cell_type": "code",
      "execution_count": null,
      "metadata": {
        "colab": {
          "background_save": true,
          "base_uri": "https://localhost:8080/"
        },
        "id": "W-MEVfFIdLOU",
        "outputId": "9df627ab-170d-44f3-bad1-f507befcc142"
      },
      "outputs": [
        {
          "name": "stdout",
          "output_type": "stream",
          "text": [
            "NOT hungery\n",
            "NOT hungery\n"
          ]
        }
      ],
      "source": [
        "\n",
        "\n",
        "is_hunger =True\n",
        "burger_lover = False\n",
        "pizza_lover = fA\n",
        "\n",
        "if (is_hunger and (pizza_lover or burger_lover) ):\n",
        "  print(\"order the pizza\")\n",
        "elif (is_hunger and burger_lover):\n",
        "    print(\"order the burger\")\n",
        "else:\n",
        "    print(\"NOT hungery\")\n",
        "    print(\"NOT hungery\")"
      ]
    },
    {
      "cell_type": "markdown",
      "source": [
        "LIST"
      ],
      "metadata": {
        "id": "g_WjLcg2AlAk"
      }
    },
    {
      "cell_type": "code",
      "source": [
        "from typing import List\n",
        "\n",
        "#shoping list\n",
        "\n",
        "item_1 : str = \"egg\"\n",
        "item_2 : str = \"milk\"\n",
        "item_3 : str = \"bread\"\n",
        "item_4 : str = \"cake\"\n",
        "item_5 : str = \"butter\"\n",
        "item_6 : str = \"cheese\"\n",
        "\n",
        "shopping_list : list[str]= [\"egg\",\"milk\",\"bread\",\"cake\",\"butter\",\"cheese\"]\n",
        "print(shopping_list)\n",
        "\n",
        "Task : List[str]= [\"WORK\",\"EXERCISE\",\"SLEEP\"]\n",
        "\n",
        "print(Task)\n",
        "\n"
      ],
      "metadata": {
        "colab": {
          "base_uri": "https://localhost:8080/"
        },
        "id": "jx2lTVrhAg4k",
        "outputId": "6a19eea4-9aee-4b1d-af31-38eb0c904c78"
      },
      "execution_count": 15,
      "outputs": [
        {
          "output_type": "stream",
          "name": "stdout",
          "text": [
            "['egg', 'milk', 'bread', 'cake', 'butter', 'cheese']\n",
            "['WORK', 'EXERCISE', 'SLEEP']\n"
          ]
        }
      ]
    },
    {
      "cell_type": "markdown",
      "source": [
        "**LIST INDEX**"
      ],
      "metadata": {
        "id": "tCMJItPpHQJZ"
      }
    },
    {
      "cell_type": "code",
      "source": [
        "shopping_list : list[str]= [\"egg\",\"milk\",\"bread\",\"cake\",\"butter\",\"cheese\"]\n",
        "#                          [ 0      1      2       3      4        5 ]\n",
        "\n",
        "\n",
        "print (shopping_list[2])\n",
        "print (shopping_list[5])"
      ],
      "metadata": {
        "colab": {
          "base_uri": "https://localhost:8080/"
        },
        "id": "Te4vTJ7rJ9T6",
        "outputId": "853333b8-4b49-423a-f470-a91c4ba54ec6"
      },
      "execution_count": 18,
      "outputs": [
        {
          "output_type": "stream",
          "name": "stdout",
          "text": [
            "bread\n",
            "cheese\n"
          ]
        }
      ]
    },
    {
      "cell_type": "markdown",
      "source": [
        "**LENGTH**"
      ],
      "metadata": {
        "id": "nZpAZBzHKeWY"
      }
    },
    {
      "cell_type": "code",
      "source": [
        "shopping_list : list[str]= [\"egg\",\"milk\",\"bread\",\"cake\",\"butter\",\"cheese\"]\n",
        "#                          [ 0      1      2       3      4        5 ]\n",
        "\n",
        "\n",
        "\n",
        "print (len(shopping_list))"
      ],
      "metadata": {
        "colab": {
          "base_uri": "https://localhost:8080/"
        },
        "id": "8PCsrEsTHPeG",
        "outputId": "004e947f-aba4-4383-ce65-fb8f7c88caec"
      },
      "execution_count": 17,
      "outputs": [
        {
          "output_type": "stream",
          "name": "stdout",
          "text": [
            "bread\n",
            "cheese\n",
            "6\n"
          ]
        }
      ]
    },
    {
      "cell_type": "markdown",
      "source": [
        "# ***slicing List***"
      ],
      "metadata": {
        "id": "DZ9tj_1CJlbC"
      }
    },
    {
      "cell_type": "code",
      "source": [
        "shopping_list : list[str]= [\"egg\",\"milk\",\"bread\",\"cake\",\"butter\",\"cheese\"]\n",
        "#                          [ 0      1      2       3      4        5 ]\n",
        "\n",
        "print (shopping_list[0:3])"
      ],
      "metadata": {
        "colab": {
          "base_uri": "https://localhost:8080/"
        },
        "id": "FuqmjQrNJk0j",
        "outputId": "7874a1a3-f380-44f8-89b8-12c5bdfc5750"
      },
      "execution_count": 22,
      "outputs": [
        {
          "output_type": "stream",
          "name": "stdout",
          "text": [
            "['egg', 'milk', 'bread']\n"
          ]
        }
      ]
    }
  ],
  "metadata": {
    "colab": {
      "provenance": [],
      "authorship_tag": "ABX9TyNKyahsjQzeIt+ybvv7QEjt",
      "include_colab_link": true
    },
    "kernelspec": {
      "display_name": "Python 3",
      "name": "python3"
    },
    "language_info": {
      "name": "python"
    }
  },
  "nbformat": 4,
  "nbformat_minor": 0
}